{
 "cells": [
  {
   "cell_type": "markdown",
   "metadata": {},
   "source": [
    "Policy is mapping from environment state to agent action.\n",
    "For a plicy $\\pi$, state-value function $v_{\\pi}(s)$ is defined as follow.\n",
    "\n",
    "\\begin{align*}\n",
    "v_{\\pi}(s)\n",
    "  &= \\mathbb{E}_{\\pi} \\lbrack\n",
    "       R_{t+1} + \\gamma R_{t+2} + \\gamma ^ {2} R_{t+3} + \\dots | S_t = s\n",
    "     \\rbrack \\\\\n",
    "  &= \\mathbb{E}_{\\pi} \\lbrack\n",
    "       R_{t+1} + \\gamma v_{\\pi}(S_{t+1}) | S_t = s\n",
    "     \\rbrack \\\\\n",
    "  &= \\sum_{a} \\pi (a|s) \\sum_{s'} p(s'|s, a) \\lbrack\n",
    "      r(s, a, s') + \\gamma v_{\\pi}(s')\n",
    "     \\rbrack\n",
    "\\end{align*}"
   ]
  }
 ],
 "metadata": {},
 "nbformat": 4,
 "nbformat_minor": 2
}